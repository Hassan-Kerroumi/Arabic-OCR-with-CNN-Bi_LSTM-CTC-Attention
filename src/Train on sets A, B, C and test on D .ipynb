{
 "cells": [
  {
   "cell_type": "markdown",
   "id": "9adcfca4",
   "metadata": {},
   "source": [
    "# Importing libraries"
   ]
  },
  {
   "cell_type": "code",
   "execution_count": 38,
   "id": "cdb57677",
   "metadata": {},
   "outputs": [],
   "source": [
    "import cv2 \n",
    "import matplotlib.pyplot as plt \n",
    "import numpy as np\n",
    "import os \n",
    "import re"
   ]
  },
  {
   "cell_type": "code",
   "execution_count": null,
   "id": "e157e8ce",
   "metadata": {},
   "outputs": [],
   "source": [
    "# reading and processing data \n",
    "import cv2\n",
    "import urllib \n",
    "import itertools \n",
    "import seaborn as sns \n",
    "import os, random, glob\n",
    "import matplotlib.pyplot as plt\n",
    "from imutils import paths\n",
    "from sklearn.utils import shuffle\n",
    "from urllib.request import urlopen \n",
    "\n",
    "# ignore warnings \n",
    "import warnings \n",
    "warnings.filterwarnings('ignore')\n",
    "\n",
    "# model evaluation \n",
    "from sklearn.metrics import confusion_matrix, classification_report \n",
    "\n",
    "# modeling \n",
    "\n",
    "import tensorflow as tf \n",
    "from tensorflow.keras.models import Sequential \n",
    "from tensorflow.keras.preprocessing import image \n",
    "from tensorflow.keras.utils import to_categorical \n",
    "from tensorflow.keras.callbacks import ModelCheckpoint, EarlyStopping \n",
    "from tensorflow.keras.layers import Conv2D, Flatten, MaxPooling2D, Dense, Dropout, SpatialDropout2D, Input\n",
    "from tensorflow.keras.preprocessing.image import ImageDataGenerator, img_to_array, load_img, array_to_img\n",
    "from tensorflow.keras.regularizers import l2"
   ]
  },
  {
   "cell_type": "markdown",
   "id": "e6e2bfe2",
   "metadata": {},
   "source": [
    "# Data"
   ]
  },
  {
   "cell_type": "markdown",
   "id": "e8753434",
   "metadata": {},
   "source": [
    "## Load data"
   ]
  },
  {
   "cell_type": "code",
   "execution_count": 35,
   "id": "e0adc445",
   "metadata": {},
   "outputs": [
    {
     "data": {
      "text/plain": [
       "'ZIP:3097;AW1:ÑÈÇíÚ.ÓíÏí.ÙÇåÑ;AW2:raA|baB|aaE|yaB|ayE|seB|yaM|daE|yaA|zaB|aaE|heB|raE|;QUA:YB1;ADD:P7'"
      ]
     },
     "execution_count": 35,
     "metadata": {},
     "output_type": "execute_result"
    }
   ],
   "source": [
    "from PIL import Image\n",
    "from PIL.TiffTags import TAGS\n",
    "\n",
    "# Load the re-uploaded TIFF file\n",
    "tiff_path = \"../../Datasets/OCR/set_a/tif/ae07_045.tif\"\n",
    "with Image.open(tiff_path) as img:\n",
    "    # Extract TIFF metadata\n",
    "    tiff_metadata = {TAGS[key]: img.tag[key] for key in img.tag_v2}\n",
    "\n",
    "# Retrieve the ImageDescription tag if available\n",
    "image_description = tiff_metadata.get(\"ImageDescription\", [\"Not found\"])[0]\n",
    "image_description\n"
   ]
  },
  {
   "cell_type": "code",
   "execution_count": 36,
   "id": "c4466200",
   "metadata": {},
   "outputs": [
    {
     "data": {
      "text/plain": [
       "'ÑÈÇíÚ.ÓíÏí.ÙÇåÑ'"
      ]
     },
     "execution_count": 36,
     "metadata": {},
     "output_type": "execute_result"
    }
   ],
   "source": [
    "import re\n",
    "\n",
    "text = image_description\n",
    "match = re.search(r'AW1:([^;]+)', text)\n",
    "\n",
    "# Extract corrupted text\n",
    "corrupt_text = match.group(1) if match else None\n",
    "\n",
    "corrupt_text\n"
   ]
  },
  {
   "cell_type": "code",
   "execution_count": 37,
   "id": "1b3187f8",
   "metadata": {},
   "outputs": [
    {
     "data": {
      "text/plain": [
       "'ربايع.سيدي.ظاهر'"
      ]
     },
     "execution_count": 37,
     "metadata": {},
     "output_type": "execute_result"
    }
   ],
   "source": [
    "# The incorrectly encoded text\n",
    "corrupt_text\n",
    "\n",
    "# Try decoding with different encodings\n",
    "encodings = [\"windows-1256\", \"iso-8859-6\", \"utf-8\"]\n",
    "\n",
    "# Attempt to decode the text using different encodings\n",
    "decoded_texts = {}\n",
    "try:\n",
    "    decoded_texts = corrupt_text.encode(\"latin1\").decode(encodings[0])\n",
    "except UnicodeDecodeError:\n",
    "    decoded_texts[enc] = \"Decoding failed\"\n",
    "\n",
    "decoded_texts\n"
   ]
  },
  {
   "cell_type": "code",
   "execution_count": 11,
   "id": "9a326849",
   "metadata": {},
   "outputs": [],
   "source": [
    "from PIL import Image\n",
    "\n",
    "# Path to the TIFF file\n",
    "tiff_path = \"../../Datasets/OCR/set_a/tif/ae07_001.tif\"  # Replace with your actual file path\n",
    "\n",
    "# Open the TIFF file\n",
    "with Image.open(tiff_path) as img:\n",
    "    for i in range(img.n_frames):  # Iterate through frames (pages) if multi-page\n",
    "        img.seek(i)  # Move to frame i\n",
    "        extracted_image = img.copy()  # Copy the image to work with it in memory\n",
    "\n",
    "        # Now you can process the image without saving it\n",
    "        extracted_image.show()  # Displays the image\n",
    "#image_array = np.array(extracted_image)"
   ]
  },
  {
   "cell_type": "code",
   "execution_count": 48,
   "id": "cec4c87c",
   "metadata": {},
   "outputs": [],
   "source": [
    "def getLabel(path):\n",
    "    # Open and read the file\n",
    "    with open(path, \"r\") as file:\n",
    "        data = file.read()  # Read the entire content of the file\n",
    "\n",
    "    # Regular expression to extract AW2\n",
    "    match = re.search(r'AW2:([^;]+)', data)\n",
    "\n",
    "    # Extract and print AW2 value\n",
    "    if match:\n",
    "        aw2_value = match.group(1).strip()\n",
    "        return aw2_value\n",
    "    else:\n",
    "        return\n"
   ]
  },
  {
   "cell_type": "code",
   "execution_count": null,
   "id": "2250b942",
   "metadata": {},
   "outputs": [],
   "source": [
    "def load_dataset(imagePath, labelPath):\n",
    "    x = []\n",
    "    labels = []\n",
    "    # It lists and sorts the images in the specified path\n",
    "    image_paths = sorted(list(paths.list_images(imagePath)))\n",
    "    label_paths = sorted(list(paths.list_images(labelPath)))\n",
    "    for imagePath, labelPaths in zip(image_paths,label_paths):\n",
    "        # The images in the specified path are read using the OpenCV library\n",
    "        img = cv2.imread(image_path)\n",
    "        # resize the read image \n",
    "        img = cv2.resize(img, (32,128))\n",
    "        # the resized images are added to the x list\n",
    "        x.append(img)\n",
    "         # When each path is split by '/', the second-to-last element of the resulting list represents the label\n",
    "        label = getLabel(labelPaths)\n",
    "        \n",
    "        # The label is created by retrieving the corresponding value for the given key from the `waste_labels`\n",
    "\n",
    "        # dictionary, which contains the numerical representations of the captured labels\n",
    "        labels.append(label)\n",
    "        # the dataset is shuffled randomly\n",
    "    print(f'X size : {np.array(x).shape}')\n",
    "    print(f'Number of label classes {np.unique(labels)}, Number of observation in the dataset : {len(labels)}')\n",
    "    \n",
    "    return np.array(x), np.array(labels) \n"
   ]
  },
  {
   "cell_type": "code",
   "execution_count": 41,
   "id": "7a54b881",
   "metadata": {},
   "outputs": [
    {
     "data": {
      "text/plain": [
       "<matplotlib.image.AxesImage at 0x110b135d910>"
      ]
     },
     "execution_count": 41,
     "metadata": {},
     "output_type": "execute_result"
    },
    {
     "data": {
      "image/png": "[encoded data removed]",
      "text/plain": [
       "<Figure size 640x480 with 1 Axes>"
      ]
     },
     "metadata": {},
     "output_type": "display_data"
    }
   ],
   "source": [
    "img = cv2.imread('../../Datasets/OCR/set_a/bmp/ae07_001.bmp')\n",
    "# resize the read image \n",
    "img = cv2.resize(img, (128, 32))\n",
    "plt.imshow(img, cmap='gray')\n"
   ]
  },
  {
   "cell_type": "code",
   "execution_count": 49,
   "id": "9caa4fae",
   "metadata": {},
   "outputs": [
    {
     "data": {
      "text/plain": [
       "'aaA|laB|shM|raE|aaA|yaB|ayE|'"
      ]
     },
     "execution_count": 49,
     "metadata": {},
     "output_type": "execute_result"
    }
   ],
   "source": [
    "getLabel('../../Datasets/OCR/set_a/tru/ae07_001.tru')"
   ]
  },
  {
   "cell_type": "markdown",
   "id": "09be4380",
   "metadata": {},
   "source": [
    "##  Data visualization"
   ]
  },
  {
   "cell_type": "code",
   "execution_count": null,
   "id": "17772477",
   "metadata": {},
   "outputs": [],
   "source": []
  },
  {
   "cell_type": "markdown",
   "id": "828b3f67",
   "metadata": {},
   "source": [
    "# Modeling "
   ]
  },
  {
   "cell_type": "code",
   "execution_count": null,
   "id": "829e97c8",
   "metadata": {},
   "outputs": [],
   "source": []
  }
 ],
 "metadata": {
  "kernelspec": {
   "display_name": "Python 3 (ipykernel)",
   "language": "python",
   "name": "python3"
  },
  "language_info": {
   "codemirror_mode": {
    "name": "ipython",
    "version": 3
   },
   "file_extension": ".py",
   "mimetype": "text/x-python",
   "name": "python",
   "nbconvert_exporter": "python",
   "pygments_lexer": "ipython3",
   "version": "3.11.4"
  }
 },
 "nbformat": 4,
 "nbformat_minor": 5
}
